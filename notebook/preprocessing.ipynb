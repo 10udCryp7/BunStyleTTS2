{
 "cells": [
  {
   "cell_type": "code",
   "execution_count": 1,
   "metadata": {},
   "outputs": [],
   "source": [
    "from datasets import load_dataset\n",
    "\n",
    "# load from parquet file (~4000 samples in a parquet file)\n",
    "# link to other parquet files: https://huggingface.co/datasets/linhtran92/viet_bud500/tree/main/data\n",
    "\n",
    "train_url = \"https://huggingface.co/datasets/linhtran92/viet_bud500/resolve/main/data/train-00000-of-00105-be5f872f8be772f5.parquet\"\n",
    "test_url = \"https://huggingface.co/datasets/linhtran92/viet_bud500/resolve/main/data/test-00000-of-00002-531c1d81edb57297.parquet\"\n",
    "\n",
    "data_files = {\"train\": train_url, \"test\" : test_url}\n",
    "dataset = load_dataset(\"parquet\", data_files=data_files, )\n",
    "\n",
    "# # load dataset via streaming\n",
    "# dataset = load_dataset(\"linhtran92/viet_bud500\", split='test', streaming=True)\n",
    "# dataset.take(2)\n",
    "\n",
    "# # load all (649158 samples, ~100gb, ~2hrs to complete loading)\n",
    "# dataset = load_dataset(\"linhtran92/viet_bud500\", split=\"test\")"
   ]
  },
  {
   "cell_type": "code",
   "execution_count": 2,
   "metadata": {},
   "outputs": [],
   "source": [
    "import soundfile as sf"
   ]
  },
  {
   "cell_type": "code",
   "execution_count": 22,
   "metadata": {},
   "outputs": [],
   "source": [
    "# def convert_waveform_to_audio(waveform_list, sampling_rate=24000, path_to_audio='',prefix='train'):\n",
    "#     count = 0\n",
    "#     for waveform in waveform_list:\n",
    "#         print(waveform)\n",
    "#         sf.write(f'{path_to_audio}{prefix}_{str(count).zfill(10)}.wav', waveform['array'], sampling_rate)\n",
    "#         count += 1\n",
    "#     print('saved all audio files!') \n",
    "# sampling_rate = 24000\n",
    "# for audio in dataset['train']['audio']:\n",
    "#     sf.write(f'../dataset/audio/train_24k/train24k_{str(count).zfill(10)}.wav', audio['array'], sampling_rate)\n",
    "#     count += 1\n",
    "# count = 0\n",
    "# for audio in dataset['test']['audio']:\n",
    "#     sf.write(f'../dataset/audio/test_24k/test24k_{str(count).zfill(10)}.wav', audio['array'], sampling_rate)\n",
    "#     count += 1"
   ]
  },
  {
   "cell_type": "code",
   "execution_count": 3,
   "metadata": {},
   "outputs": [],
   "source": [
    "import scipy.signal\n",
    "import soundfile as sf\n",
    "\n",
    "def upsample_waveform(waveform, orig_sampling_rate, target_sampling_rate):\n",
    "    # Tính tỷ lệ upsampling\n",
    "    resample_factor = target_sampling_rate / orig_sampling_rate\n",
    "    \n",
    "    # Upsample tín hiệu bằng cách nội suy\n",
    "    upsampled_waveform = scipy.signal.resample(waveform, int(len(waveform) * resample_factor))\n",
    "    \n",
    "    return upsampled_waveform\n",
    "\n",
    "def convert_waveform_to_audio(waveform_list, orig_sampling_rate, target_sampling_rate=24000, path_to_audio='', prefix='train'):\n",
    "    count = 0\n",
    "    for waveform in waveform_list:\n",
    "        # Upsample lên 24kHz\n",
    "        upsampled_waveform = upsample_waveform(waveform['array'], orig_sampling_rate, target_sampling_rate)\n",
    "        \n",
    "        # Lưu tệp âm thanh với sampling rate 24kHz\n",
    "        sf.write(f'{path_to_audio}{prefix}_{str(count).zfill(10)}.wav', upsampled_waveform, target_sampling_rate)\n",
    "        count += 1\n",
    "    print('saved all audio files!')\n"
   ]
  },
  {
   "cell_type": "code",
   "execution_count": 4,
   "metadata": {},
   "outputs": [
    {
     "name": "stdout",
     "output_type": "stream",
     "text": [
      " Volume in drive D has no label.\n",
      " Volume Serial Number is 6F86-43F0\n",
      "\n",
      " Directory of d:\\AI_CODE\\BunStyleTTS2\\notebook\n",
      "\n",
      "09/11/2024  07:47 PM    <DIR>          .\n",
      "09/05/2024  02:40 PM    <DIR>          ..\n",
      "09/12/2024  05:59 PM           642,128 preprocessing.ipynb\n",
      "               1 File(s)        642,128 bytes\n",
      "               2 Dir(s)  81,914,552,320 bytes free\n"
     ]
    }
   ],
   "source": [
    "%ls"
   ]
  },
  {
   "cell_type": "code",
   "execution_count": 7,
   "metadata": {},
   "outputs": [
    {
     "name": "stdout",
     "output_type": "stream",
     "text": [
      "d:\\AI_CODE\\BunStyleTTS2\n"
     ]
    }
   ],
   "source": [
    "%cd ../"
   ]
  },
  {
   "cell_type": "code",
   "execution_count": 8,
   "metadata": {},
   "outputs": [
    {
     "name": "stdout",
     "output_type": "stream",
     "text": [
      "saved all audio files!\n"
     ]
    }
   ],
   "source": [
    "# convert_waveform_to_audio(dataset['train']['audio'], sampling_rate=24000,path_to_audio='../dataset/audio/train_24k/',prefix='train24k')\n",
    "convert_waveform_to_audio(dataset['test']['audio'], orig_sampling_rate=16000, target_sampling_rate=24000,path_to_audio='dataset/audio/test_24k_re/',prefix='test24k_re')"
   ]
  },
  {
   "cell_type": "code",
   "execution_count": 4,
   "metadata": {},
   "outputs": [],
   "source": [
    "import phonemizer\n",
    "global_phonemizer = phonemizer.backend.EspeakBackend(language='vi', preserve_punctuation=True,  with_stress=True)"
   ]
  },
  {
   "cell_type": "code",
   "execution_count": 6,
   "metadata": {},
   "outputs": [
    {
     "name": "stdout",
     "output_type": "stream",
     "text": [
      "sin tʃaː2w, t̪oj laː2 mo6t̪ lə6p tʃi2ɲ viɛn.\n"
     ]
    }
   ],
   "source": [
    "from phonemizer import phonemize\n",
    "text = \"Xin chào, tôi là một lập trình viên.\"\n",
    "\n",
    "# Sử dụng phonemizer để chuyển đổi văn bản thành IPA\n",
    "ipa_text = phonemize(text, language='vi', backend='espeak', strip=True, preserve_punctuation=True)\n",
    "\n",
    "print(ipa_text)"
   ]
  },
  {
   "cell_type": "code",
   "execution_count": 30,
   "metadata": {},
   "outputs": [],
   "source": [
    "def create_data_list(transcription_list, path_to_audio, path_to_list, prefix, language, max):\n",
    "    count = 0\n",
    "    global_phonemizer = phonemizer.backend.EspeakBackend(language=language, preserve_punctuation=True,  with_stress=True)\n",
    "    with open(path_to_list, 'w') as f:\n",
    "        for text in transcription_list:\n",
    "            text = text.strip()\n",
    "            ps = global_phonemizer.phonemize([text])\n",
    "            f.write(f'{path_to_audio}/{prefix}_{str(count).zfill(10)}.wav|{ps[0]}|0\\n')\n",
    "            count += 1\n",
    "            if (count == max):\n",
    "                break\n",
    "\n",
    "# with open('../dataset/train_list_24k.txt', 'w') as f:\n",
    "#     count = 0\n",
    "#     for text in dataset['train']['transcription']:\n",
    "#         text = text.strip()\n",
    "#         ps = global_phonemizer.phonemize([text])\n",
    "#         f.write(f'train_24k/train24k_{str(count).zfill(10)}.wav|{ps[0]}|0\\n')\n",
    "#         count += 1\n",
    "# with open('../dataset/test_list_24k.txt', 'w') as f:\n",
    "#     count = 0\n",
    "#     for text in dataset['test']['transcription']:\n",
    "#         text = text.strip()\n",
    "#         ps = global_phonemizer.phonemize([text])\n",
    "#         f.write(f'test_24k/test24k_{str(count).zfill(10)}.wav|{ps[0]}|0\\n')\n",
    "#         count += 1"
   ]
  },
  {
   "cell_type": "code",
   "execution_count": 34,
   "metadata": {},
   "outputs": [],
   "source": [
    "create_data_list(dataset['train']['transcription'],'train_24k','dataset/train_list_24k_small.txt','train24k','vi',100)"
   ]
  },
  {
   "cell_type": "code",
   "execution_count": 35,
   "metadata": {},
   "outputs": [],
   "source": [
    "create_data_list(dataset['test']['transcription'],'test_24k','dataset/test_list_24k_small.txt','test24k','vi',100)"
   ]
  }
 ],
 "metadata": {
  "kernelspec": {
   "display_name": "d2l",
   "language": "python",
   "name": "python3"
  },
  "language_info": {
   "codemirror_mode": {
    "name": "ipython",
    "version": 3
   },
   "file_extension": ".py",
   "mimetype": "text/x-python",
   "name": "python",
   "nbconvert_exporter": "python",
   "pygments_lexer": "ipython3",
   "version": "3.12.3"
  }
 },
 "nbformat": 4,
 "nbformat_minor": 2
}
