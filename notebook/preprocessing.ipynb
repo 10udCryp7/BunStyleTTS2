{
 "cells": [
  {
   "cell_type": "code",
   "execution_count": 1,
   "metadata": {},
   "outputs": [],
   "source": [
    "from datasets import load_dataset\n",
    "\n",
    "# load from parquet file (~4000 samples in a parquet file)\n",
    "# link to other parquet files: https://huggingface.co/datasets/linhtran92/viet_bud500/tree/main/data\n",
    "\n",
    "train_url = \"https://huggingface.co/datasets/linhtran92/viet_bud500/resolve/main/data/train-00000-of-00105-be5f872f8be772f5.parquet\"\n",
    "test_url = \"https://huggingface.co/datasets/linhtran92/viet_bud500/resolve/main/data/test-00000-of-00002-531c1d81edb57297.parquet\"\n",
    "\n",
    "data_files = {\"train\": train_url, \"test\" : test_url}\n",
    "dataset = load_dataset(\"parquet\", data_files=data_files, )\n",
    "\n",
    "# # load dataset via streaming\n",
    "# dataset = load_dataset(\"linhtran92/viet_bud500\", split='test', streaming=True)\n",
    "# dataset.take(2)\n",
    "\n",
    "# # load all (649158 samples, ~100gb, ~2hrs to complete loading)\n",
    "# dataset = load_dataset(\"linhtran92/viet_bud500\", split=\"test\")"
   ]
  },
  {
   "cell_type": "code",
   "execution_count": 10,
   "metadata": {},
   "outputs": [],
   "source": [
    "import soundfile as sf"
   ]
  },
  {
   "cell_type": "code",
   "execution_count": 9,
   "metadata": {},
   "outputs": [],
   "source": [
    "count = 0\n",
    "for audio in dataset['train']['audio']:\n",
    "    sf.write(f'../dataset/audio/train_24k/train24k_{str(count).zfill(10)}.wav', audio['array'], 24000)\n",
    "    count += 1\n",
    "for audio in dataset['test']['audio']:\n",
    "    sf.write(f'../dataset/audio/test_24k/test24k_{str(count).zfill(10)}.wav', audio['array'], 24000)\n",
    "    count += 1"
   ]
  },
  {
   "cell_type": "code",
   "execution_count": 11,
   "metadata": {},
   "outputs": [],
   "source": [
    "import phonemizer\n",
    "global_phonemizer = phonemizer.backend.EspeakBackend(language='vi', preserve_punctuation=True,  with_stress=True)"
   ]
  },
  {
   "cell_type": "code",
   "execution_count": 13,
   "metadata": {},
   "outputs": [
    {
     "name": "stdout",
     "output_type": "stream",
     "text": [
      "sin tʃaː2w, t̪oj laː2 mo6t̪ lə6p tʃi2ɲ viɛn.\n"
     ]
    }
   ],
   "source": [
    "from phonemizer import phonemize\n",
    "text = \"Xin chào, tôi là một lập trình viên.\"\n",
    "\n",
    "# Sử dụng phonemizer để chuyển đổi văn bản thành IPA\n",
    "ipa_text = phonemize(text, language='vi', backend='espeak', strip=True, preserve_punctuation=True)\n",
    "\n",
    "print(ipa_text)"
   ]
  },
  {
   "cell_type": "code",
   "execution_count": 12,
   "metadata": {},
   "outputs": [],
   "source": [
    "with open('../dataset/train_list_24k.txt', 'w') as f:\n",
    "    count = 0\n",
    "    for text in dataset['train']['transcription']:\n",
    "        text = text.strip()\n",
    "        ps = global_phonemizer.phonemize([text])\n",
    "        f.write(f'train_24k/train24k_{str(count).zfill(10)}.wav|{ps[0]}|0\\n')\n",
    "        count += 1\n",
    "with open('../dataset/test_list_24k.txt', 'w') as f:\n",
    "    count = 0\n",
    "    for text in dataset['test']['transcription']:\n",
    "        text = text.strip()\n",
    "        ps = global_phonemizer.phonemize([text])\n",
    "        f.write(f'test_24k/test24k_{str(count).zfill(10)}.wav|{ps[0]}|0\\n')\n",
    "        count += 1"
   ]
  }
 ],
 "metadata": {
  "kernelspec": {
   "display_name": "d2l",
   "language": "python",
   "name": "python3"
  },
  "language_info": {
   "codemirror_mode": {
    "name": "ipython",
    "version": 3
   },
   "file_extension": ".py",
   "mimetype": "text/x-python",
   "name": "python",
   "nbconvert_exporter": "python",
   "pygments_lexer": "ipython3",
   "version": "3.12.3"
  }
 },
 "nbformat": 4,
 "nbformat_minor": 2
}
