{
 "cells": [
  {
   "cell_type": "code",
   "execution_count": 1,
   "metadata": {},
   "outputs": [],
   "source": [
    "from datasets import load_dataset\n",
    "\n",
    "# load from parquet file (~4000 samples in a parquet file)\n",
    "# link to other parquet files: https://huggingface.co/datasets/linhtran92/viet_bud500/tree/main/data\n",
    "\n",
    "train_url = \"https://huggingface.co/datasets/linhtran92/viet_bud500/resolve/main/data/train-00000-of-00105-be5f872f8be772f5.parquet\"\n",
    "test_url = \"https://huggingface.co/datasets/linhtran92/viet_bud500/resolve/main/data/test-00000-of-00002-531c1d81edb57297.parquet\"\n",
    "\n",
    "data_files = {\"train\": train_url, \"test\" : test_url}\n",
    "dataset = load_dataset(\"parquet\", data_files=data_files, )\n",
    "\n",
    "# # load dataset via streaming\n",
    "# dataset = load_dataset(\"linhtran92/viet_bud500\", split='test', streaming=True)\n",
    "# dataset.take(2)\n",
    "\n",
    "# # load all (649158 samples, ~100gb, ~2hrs to complete loading)\n",
    "# dataset = load_dataset(\"linhtran92/viet_bud500\", split=\"test\")"
   ]
  },
  {
   "cell_type": "code",
   "execution_count": 3,
   "metadata": {},
   "outputs": [],
   "source": [
    "import soundfile as sf"
   ]
  },
  {
   "cell_type": "code",
   "execution_count": 2,
   "metadata": {},
   "outputs": [
    {
     "name": "stderr",
     "output_type": "stream",
     "text": [
      "Exception ignored from cffi callback <function SoundFile._init_virtual_io.<locals>.vio_tell at 0x00000253ECF4F2E0>:\n",
      "Traceback (most recent call last):\n",
      "  File \"c:\\Users\\tridu\\miniconda3\\envs\\d2l\\Lib\\site-packages\\soundfile.py\", line 1264, in vio_tell\n",
      "    @_ffi.callback(\"sf_vio_tell\")\n",
      "\n",
      "KeyboardInterrupt: \n"
     ]
    },
    {
     "ename": "NameError",
     "evalue": "name 'sf' is not defined",
     "output_type": "error",
     "traceback": [
      "\u001b[1;31m---------------------------------------------------------------------------\u001b[0m",
      "\u001b[1;31mNameError\u001b[0m                                 Traceback (most recent call last)",
      "Cell \u001b[1;32mIn[2], line 3\u001b[0m\n\u001b[0;32m      1\u001b[0m count \u001b[38;5;241m=\u001b[39m \u001b[38;5;241m0\u001b[39m\n\u001b[0;32m      2\u001b[0m \u001b[38;5;28;01mfor\u001b[39;00m audio \u001b[38;5;129;01min\u001b[39;00m dataset[\u001b[38;5;124m'\u001b[39m\u001b[38;5;124mtrain\u001b[39m\u001b[38;5;124m'\u001b[39m][\u001b[38;5;124m'\u001b[39m\u001b[38;5;124maudio\u001b[39m\u001b[38;5;124m'\u001b[39m]:\n\u001b[1;32m----> 3\u001b[0m     \u001b[43msf\u001b[49m\u001b[38;5;241m.\u001b[39mwrite(\u001b[38;5;124mf\u001b[39m\u001b[38;5;124m'\u001b[39m\u001b[38;5;124m../data/audio/train/train_\u001b[39m\u001b[38;5;132;01m{\u001b[39;00m\u001b[38;5;28mstr\u001b[39m(count)\u001b[38;5;241m.\u001b[39mzfill(\u001b[38;5;241m10\u001b[39m)\u001b[38;5;132;01m}\u001b[39;00m\u001b[38;5;124m.wav\u001b[39m\u001b[38;5;124m'\u001b[39m, audio[\u001b[38;5;124m'\u001b[39m\u001b[38;5;124marray\u001b[39m\u001b[38;5;124m'\u001b[39m], \u001b[38;5;241m16000\u001b[39m)\n\u001b[0;32m      4\u001b[0m     count \u001b[38;5;241m+\u001b[39m\u001b[38;5;241m=\u001b[39m \u001b[38;5;241m1\u001b[39m\n\u001b[0;32m      5\u001b[0m \u001b[38;5;28;01mfor\u001b[39;00m audio \u001b[38;5;129;01min\u001b[39;00m dataset[\u001b[38;5;124m'\u001b[39m\u001b[38;5;124mtest\u001b[39m\u001b[38;5;124m'\u001b[39m][\u001b[38;5;124m'\u001b[39m\u001b[38;5;124maudio\u001b[39m\u001b[38;5;124m'\u001b[39m]:\n",
      "\u001b[1;31mNameError\u001b[0m: name 'sf' is not defined"
     ]
    }
   ],
   "source": [
    "count = 0\n",
    "for audio in dataset['train']['audio']:\n",
    "    sf.write(f'../data/audio/train/train_{str(count).zfill(10)}.wav', audio['array'], 16000)\n",
    "    count += 1\n",
    "for audio in dataset['test']['audio']:\n",
    "    sf.write(f'../data/audio/test/test_{str(count).zfill(10)}.wav', audio['array'], 16000)\n",
    "    count += 1"
   ]
  },
  {
   "cell_type": "code",
   "execution_count": 4,
   "metadata": {},
   "outputs": [],
   "source": [
    "import phonemizer\n",
    "global_phonemizer = phonemizer.backend.EspeakBackend(language='vi', preserve_punctuation=True,  with_stress=True)"
   ]
  },
  {
   "cell_type": "code",
   "execution_count": 6,
   "metadata": {},
   "outputs": [],
   "source": [
    "with open('../dataset/train_list.txt', 'w') as f:\n",
    "    count = 0\n",
    "    for text in dataset['train']['transcription']:\n",
    "        text = text.strip()\n",
    "        ps = global_phonemizer.phonemize([text])\n",
    "        f.write(f'train/train_{str(count).zfill(10)}.wav|{ps[0]}|0\\n')\n",
    "with open('../dataset/test_list.txt', 'w') as f:\n",
    "    count = 0\n",
    "    for text in dataset['test']['transcription']:\n",
    "        text = text.strip()\n",
    "        ps = global_phonemizer.phonemize([text])\n",
    "        f.write(f'test/test_{str(count).zfill(10)}.wav|{ps[0]}|0\\n')"
   ]
  }
 ],
 "metadata": {
  "kernelspec": {
   "display_name": "d2l",
   "language": "python",
   "name": "python3"
  },
  "language_info": {
   "codemirror_mode": {
    "name": "ipython",
    "version": 3
   },
   "file_extension": ".py",
   "mimetype": "text/x-python",
   "name": "python",
   "nbconvert_exporter": "python",
   "pygments_lexer": "ipython3",
   "version": "3.12.3"
  }
 },
 "nbformat": 4,
 "nbformat_minor": 2
}
